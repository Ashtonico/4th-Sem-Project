{
 "cells": [
  {
   "cell_type": "code",
   "execution_count": 3,
   "id": "8c522eeb-d596-42c9-a093-d28a7fcd8c1f",
   "metadata": {},
   "outputs": [],
   "source": [
    "import pandas as pd\n",
    "df = pd.read_csv(\"/Users/ashton/Desktop/Degree/LAB/walmart.csv\")"
   ]
  },
  {
   "cell_type": "code",
   "execution_count": 5,
   "id": "514e9901-dc26-4d10-b8f2-e7a94988a728",
   "metadata": {},
   "outputs": [
    {
     "data": {
      "text/html": [
       "<div>\n",
       "<style scoped>\n",
       "    .dataframe tbody tr th:only-of-type {\n",
       "        vertical-align: middle;\n",
       "    }\n",
       "\n",
       "    .dataframe tbody tr th {\n",
       "        vertical-align: top;\n",
       "    }\n",
       "\n",
       "    .dataframe thead th {\n",
       "        text-align: right;\n",
       "    }\n",
       "</style>\n",
       "<table border=\"1\" class=\"dataframe\">\n",
       "  <thead>\n",
       "    <tr style=\"text-align: right;\">\n",
       "      <th></th>\n",
       "      <th>User_ID</th>\n",
       "      <th>Product_ID</th>\n",
       "      <th>Gender</th>\n",
       "      <th>Age</th>\n",
       "      <th>Occupation</th>\n",
       "      <th>City_Category</th>\n",
       "      <th>Stay_In_Current_City_Years</th>\n",
       "      <th>Marital_Status</th>\n",
       "      <th>Product_Category</th>\n",
       "      <th>Purchase</th>\n",
       "    </tr>\n",
       "  </thead>\n",
       "  <tbody>\n",
       "    <tr>\n",
       "      <th>0</th>\n",
       "      <td>1000001</td>\n",
       "      <td>P00069042</td>\n",
       "      <td>F</td>\n",
       "      <td>0-17</td>\n",
       "      <td>10</td>\n",
       "      <td>A</td>\n",
       "      <td>2</td>\n",
       "      <td>0</td>\n",
       "      <td>3</td>\n",
       "      <td>8370</td>\n",
       "    </tr>\n",
       "    <tr>\n",
       "      <th>1</th>\n",
       "      <td>1000001</td>\n",
       "      <td>P00248942</td>\n",
       "      <td>F</td>\n",
       "      <td>0-17</td>\n",
       "      <td>10</td>\n",
       "      <td>A</td>\n",
       "      <td>2</td>\n",
       "      <td>0</td>\n",
       "      <td>1</td>\n",
       "      <td>15200</td>\n",
       "    </tr>\n",
       "    <tr>\n",
       "      <th>2</th>\n",
       "      <td>1000001</td>\n",
       "      <td>P00087842</td>\n",
       "      <td>F</td>\n",
       "      <td>0-17</td>\n",
       "      <td>10</td>\n",
       "      <td>A</td>\n",
       "      <td>2</td>\n",
       "      <td>0</td>\n",
       "      <td>12</td>\n",
       "      <td>1422</td>\n",
       "    </tr>\n",
       "    <tr>\n",
       "      <th>3</th>\n",
       "      <td>1000001</td>\n",
       "      <td>P00085442</td>\n",
       "      <td>F</td>\n",
       "      <td>0-17</td>\n",
       "      <td>10</td>\n",
       "      <td>A</td>\n",
       "      <td>2</td>\n",
       "      <td>0</td>\n",
       "      <td>12</td>\n",
       "      <td>1057</td>\n",
       "    </tr>\n",
       "    <tr>\n",
       "      <th>4</th>\n",
       "      <td>1000002</td>\n",
       "      <td>P00285442</td>\n",
       "      <td>M</td>\n",
       "      <td>55+</td>\n",
       "      <td>16</td>\n",
       "      <td>C</td>\n",
       "      <td>4+</td>\n",
       "      <td>0</td>\n",
       "      <td>8</td>\n",
       "      <td>7969</td>\n",
       "    </tr>\n",
       "    <tr>\n",
       "      <th>...</th>\n",
       "      <td>...</td>\n",
       "      <td>...</td>\n",
       "      <td>...</td>\n",
       "      <td>...</td>\n",
       "      <td>...</td>\n",
       "      <td>...</td>\n",
       "      <td>...</td>\n",
       "      <td>...</td>\n",
       "      <td>...</td>\n",
       "      <td>...</td>\n",
       "    </tr>\n",
       "    <tr>\n",
       "      <th>550063</th>\n",
       "      <td>1006033</td>\n",
       "      <td>P00372445</td>\n",
       "      <td>M</td>\n",
       "      <td>51-55</td>\n",
       "      <td>13</td>\n",
       "      <td>B</td>\n",
       "      <td>1</td>\n",
       "      <td>1</td>\n",
       "      <td>20</td>\n",
       "      <td>368</td>\n",
       "    </tr>\n",
       "    <tr>\n",
       "      <th>550064</th>\n",
       "      <td>1006035</td>\n",
       "      <td>P00375436</td>\n",
       "      <td>F</td>\n",
       "      <td>26-35</td>\n",
       "      <td>1</td>\n",
       "      <td>C</td>\n",
       "      <td>3</td>\n",
       "      <td>0</td>\n",
       "      <td>20</td>\n",
       "      <td>371</td>\n",
       "    </tr>\n",
       "    <tr>\n",
       "      <th>550065</th>\n",
       "      <td>1006036</td>\n",
       "      <td>P00375436</td>\n",
       "      <td>F</td>\n",
       "      <td>26-35</td>\n",
       "      <td>15</td>\n",
       "      <td>B</td>\n",
       "      <td>4+</td>\n",
       "      <td>1</td>\n",
       "      <td>20</td>\n",
       "      <td>137</td>\n",
       "    </tr>\n",
       "    <tr>\n",
       "      <th>550066</th>\n",
       "      <td>1006038</td>\n",
       "      <td>P00375436</td>\n",
       "      <td>F</td>\n",
       "      <td>55+</td>\n",
       "      <td>1</td>\n",
       "      <td>C</td>\n",
       "      <td>2</td>\n",
       "      <td>0</td>\n",
       "      <td>20</td>\n",
       "      <td>365</td>\n",
       "    </tr>\n",
       "    <tr>\n",
       "      <th>550067</th>\n",
       "      <td>1006039</td>\n",
       "      <td>P00371644</td>\n",
       "      <td>F</td>\n",
       "      <td>46-50</td>\n",
       "      <td>0</td>\n",
       "      <td>B</td>\n",
       "      <td>4+</td>\n",
       "      <td>1</td>\n",
       "      <td>20</td>\n",
       "      <td>490</td>\n",
       "    </tr>\n",
       "  </tbody>\n",
       "</table>\n",
       "<p>550068 rows × 10 columns</p>\n",
       "</div>"
      ],
      "text/plain": [
       "        User_ID Product_ID Gender    Age  Occupation City_Category  \\\n",
       "0       1000001  P00069042      F   0-17          10             A   \n",
       "1       1000001  P00248942      F   0-17          10             A   \n",
       "2       1000001  P00087842      F   0-17          10             A   \n",
       "3       1000001  P00085442      F   0-17          10             A   \n",
       "4       1000002  P00285442      M    55+          16             C   \n",
       "...         ...        ...    ...    ...         ...           ...   \n",
       "550063  1006033  P00372445      M  51-55          13             B   \n",
       "550064  1006035  P00375436      F  26-35           1             C   \n",
       "550065  1006036  P00375436      F  26-35          15             B   \n",
       "550066  1006038  P00375436      F    55+           1             C   \n",
       "550067  1006039  P00371644      F  46-50           0             B   \n",
       "\n",
       "       Stay_In_Current_City_Years  Marital_Status  Product_Category  Purchase  \n",
       "0                               2               0                 3      8370  \n",
       "1                               2               0                 1     15200  \n",
       "2                               2               0                12      1422  \n",
       "3                               2               0                12      1057  \n",
       "4                              4+               0                 8      7969  \n",
       "...                           ...             ...               ...       ...  \n",
       "550063                          1               1                20       368  \n",
       "550064                          3               0                20       371  \n",
       "550065                         4+               1                20       137  \n",
       "550066                          2               0                20       365  \n",
       "550067                         4+               1                20       490  \n",
       "\n",
       "[550068 rows x 10 columns]"
      ]
     },
     "execution_count": 5,
     "metadata": {},
     "output_type": "execute_result"
    }
   ],
   "source": [
    "df"
   ]
  },
  {
   "cell_type": "code",
   "execution_count": 7,
   "id": "8168e19c-f6fe-40c6-96e4-14973e0f2d9f",
   "metadata": {},
   "outputs": [],
   "source": [
    "import numpy as np"
   ]
  },
  {
   "cell_type": "code",
   "execution_count": 9,
   "id": "36e1a419-3895-4a3b-9c60-78bf45fae5aa",
   "metadata": {},
   "outputs": [
    {
     "data": {
      "text/plain": [
       "<module 'numpy' from '/opt/anaconda3/lib/python3.12/site-packages/numpy/__init__.py'>"
      ]
     },
     "execution_count": 9,
     "metadata": {},
     "output_type": "execute_result"
    }
   ],
   "source": [
    "np"
   ]
  },
  {
   "cell_type": "code",
   "execution_count": 11,
   "id": "0113a7ce-269d-4545-82f5-81b37e30d6de",
   "metadata": {},
   "outputs": [
    {
     "data": {
      "text/html": [
       "<div>\n",
       "<style scoped>\n",
       "    .dataframe tbody tr th:only-of-type {\n",
       "        vertical-align: middle;\n",
       "    }\n",
       "\n",
       "    .dataframe tbody tr th {\n",
       "        vertical-align: top;\n",
       "    }\n",
       "\n",
       "    .dataframe thead th {\n",
       "        text-align: right;\n",
       "    }\n",
       "</style>\n",
       "<table border=\"1\" class=\"dataframe\">\n",
       "  <thead>\n",
       "    <tr style=\"text-align: right;\">\n",
       "      <th></th>\n",
       "      <th>User_ID</th>\n",
       "      <th>Product_ID</th>\n",
       "      <th>Gender</th>\n",
       "      <th>Age</th>\n",
       "      <th>Occupation</th>\n",
       "      <th>City_Category</th>\n",
       "      <th>Stay_In_Current_City_Years</th>\n",
       "      <th>Marital_Status</th>\n",
       "      <th>Product_Category</th>\n",
       "      <th>Purchase</th>\n",
       "    </tr>\n",
       "  </thead>\n",
       "  <tbody>\n",
       "    <tr>\n",
       "      <th>0</th>\n",
       "      <td>1000001</td>\n",
       "      <td>P00069042</td>\n",
       "      <td>F</td>\n",
       "      <td>0-17</td>\n",
       "      <td>10</td>\n",
       "      <td>A</td>\n",
       "      <td>2</td>\n",
       "      <td>0</td>\n",
       "      <td>3</td>\n",
       "      <td>8370</td>\n",
       "    </tr>\n",
       "    <tr>\n",
       "      <th>1</th>\n",
       "      <td>1000001</td>\n",
       "      <td>P00248942</td>\n",
       "      <td>F</td>\n",
       "      <td>0-17</td>\n",
       "      <td>10</td>\n",
       "      <td>A</td>\n",
       "      <td>2</td>\n",
       "      <td>0</td>\n",
       "      <td>1</td>\n",
       "      <td>15200</td>\n",
       "    </tr>\n",
       "    <tr>\n",
       "      <th>2</th>\n",
       "      <td>1000001</td>\n",
       "      <td>P00087842</td>\n",
       "      <td>F</td>\n",
       "      <td>0-17</td>\n",
       "      <td>10</td>\n",
       "      <td>A</td>\n",
       "      <td>2</td>\n",
       "      <td>0</td>\n",
       "      <td>12</td>\n",
       "      <td>1422</td>\n",
       "    </tr>\n",
       "    <tr>\n",
       "      <th>3</th>\n",
       "      <td>1000001</td>\n",
       "      <td>P00085442</td>\n",
       "      <td>F</td>\n",
       "      <td>0-17</td>\n",
       "      <td>10</td>\n",
       "      <td>A</td>\n",
       "      <td>2</td>\n",
       "      <td>0</td>\n",
       "      <td>12</td>\n",
       "      <td>1057</td>\n",
       "    </tr>\n",
       "    <tr>\n",
       "      <th>4</th>\n",
       "      <td>1000002</td>\n",
       "      <td>P00285442</td>\n",
       "      <td>M</td>\n",
       "      <td>55+</td>\n",
       "      <td>16</td>\n",
       "      <td>C</td>\n",
       "      <td>4+</td>\n",
       "      <td>0</td>\n",
       "      <td>8</td>\n",
       "      <td>7969</td>\n",
       "    </tr>\n",
       "  </tbody>\n",
       "</table>\n",
       "</div>"
      ],
      "text/plain": [
       "   User_ID Product_ID Gender   Age  Occupation City_Category  \\\n",
       "0  1000001  P00069042      F  0-17          10             A   \n",
       "1  1000001  P00248942      F  0-17          10             A   \n",
       "2  1000001  P00087842      F  0-17          10             A   \n",
       "3  1000001  P00085442      F  0-17          10             A   \n",
       "4  1000002  P00285442      M   55+          16             C   \n",
       "\n",
       "  Stay_In_Current_City_Years  Marital_Status  Product_Category  Purchase  \n",
       "0                          2               0                 3      8370  \n",
       "1                          2               0                 1     15200  \n",
       "2                          2               0                12      1422  \n",
       "3                          2               0                12      1057  \n",
       "4                         4+               0                 8      7969  "
      ]
     },
     "metadata": {},
     "output_type": "display_data"
    }
   ],
   "source": [
    "# Display first few rows\n",
    "display(df.head())"
   ]
  },
  {
   "cell_type": "code",
   "execution_count": 13,
   "id": "8f8bb820-021b-4a2d-9951-410bed0b2e6f",
   "metadata": {},
   "outputs": [
    {
     "name": "stdout",
     "output_type": "stream",
     "text": [
      "\n",
      "Data Types:\n",
      "User_ID                        int64\n",
      "Product_ID                    object\n",
      "Gender                        object\n",
      "Age                           object\n",
      "Occupation                     int64\n",
      "City_Category                 object\n",
      "Stay_In_Current_City_Years    object\n",
      "Marital_Status                 int64\n",
      "Product_Category               int64\n",
      "Purchase                       int64\n",
      "dtype: object\n"
     ]
    }
   ],
   "source": [
    "# Print data types of each column\n",
    "print(\"\\nData Types:\")\n",
    "print(df.dtypes)"
   ]
  },
  {
   "cell_type": "code",
   "execution_count": 15,
   "id": "9ce6660a-3c39-4625-9045-9d71a61a6eed",
   "metadata": {},
   "outputs": [
    {
     "name": "stdout",
     "output_type": "stream",
     "text": [
      "\n",
      "Number of Rows: 550068, Number of Columns: 10\n"
     ]
    }
   ],
   "source": [
    "# Determine number of rows and columns\n",
    "num_rows, num_cols = df.shape\n",
    "print(f\"\\nNumber of Rows: {num_rows}, Number of Columns: {num_cols}\")"
   ]
  },
  {
   "cell_type": "code",
   "execution_count": 17,
   "id": "5688b9c3-ff7e-480a-8e64-debec3ecc8b8",
   "metadata": {},
   "outputs": [
    {
     "name": "stdout",
     "output_type": "stream",
     "text": [
      "\n",
      "Missing Values:\n",
      "User_ID                       0\n",
      "Product_ID                    0\n",
      "Gender                        0\n",
      "Age                           0\n",
      "Occupation                    0\n",
      "City_Category                 0\n",
      "Stay_In_Current_City_Years    0\n",
      "Marital_Status                0\n",
      "Product_Category              0\n",
      "Purchase                      0\n",
      "dtype: int64\n"
     ]
    }
   ],
   "source": [
    "# Check for missing values\n",
    "print(\"\\nMissing Values:\")\n",
    "print(df.isnull().sum())\n"
   ]
  },
  {
   "cell_type": "code",
   "execution_count": 19,
   "id": "ab12e524-b634-413c-a39d-13b836e93d34",
   "metadata": {},
   "outputs": [
    {
     "name": "stdout",
     "output_type": "stream",
     "text": [
      "\n",
      "Descriptive Statistics:\n",
      "            User_ID     Occupation  Marital_Status  Product_Category  \\\n",
      "count  5.500680e+05  550068.000000   550068.000000     550068.000000   \n",
      "mean   1.003029e+06       8.076707        0.409653          5.404270   \n",
      "std    1.727592e+03       6.522660        0.491770          3.936211   \n",
      "min    1.000001e+06       0.000000        0.000000          1.000000   \n",
      "25%    1.001516e+06       2.000000        0.000000          1.000000   \n",
      "50%    1.003077e+06       7.000000        0.000000          5.000000   \n",
      "75%    1.004478e+06      14.000000        1.000000          8.000000   \n",
      "max    1.006040e+06      20.000000        1.000000         20.000000   \n",
      "\n",
      "            Purchase  \n",
      "count  550068.000000  \n",
      "mean     9263.968713  \n",
      "std      5023.065394  \n",
      "min        12.000000  \n",
      "25%      5823.000000  \n",
      "50%      8047.000000  \n",
      "75%     12054.000000  \n",
      "max     23961.000000  \n"
     ]
    }
   ],
   "source": [
    "# Basic descriptive statistics for numerical columns\n",
    "print(\"\\nDescriptive Statistics:\")\n",
    "print(df.describe())"
   ]
  },
  {
   "cell_type": "code",
   "execution_count": 27,
   "id": "69983c16-0efe-49d8-a269-660bf3c3a9a7",
   "metadata": {},
   "outputs": [
    {
     "name": "stdout",
     "output_type": "stream",
     "text": [
      "\n",
      "Potential Outliers:\n",
      "User_ID                0\n",
      "Occupation             0\n",
      "Marital_Status         0\n",
      "Product_Category    4153\n",
      "Purchase            2677\n",
      "dtype: int64\n"
     ]
    }
   ],
   "source": [
    "# Identify potential outliers using the IQR method (only for numeric columns)\n",
    "numeric_cols = df.select_dtypes(include=['number']).columns  # Select only numeric columns\n",
    "\n",
    "Q1 = df[numeric_cols].quantile(0.25)\n",
    "Q3 = df[numeric_cols].quantile(0.75)\n",
    "IQR = Q3 - Q1\n",
    "\n",
    "outliers = ((df[numeric_cols] < (Q1 - 1.5 * IQR)) | (df[numeric_cols] > (Q3 + 1.5 * IQR))).sum()\n",
    "print(\"\\nPotential Outliers:\")\n",
    "print(outliers)\n"
   ]
  },
  {
   "cell_type": "code",
   "execution_count": 29,
   "id": "75e5d5b4-83e3-4cef-a103-92b7cbdf48d1",
   "metadata": {},
   "outputs": [],
   "source": [
    "# Handling Missing Values (if any)\n",
    "# Since there are no missing values, we skip imputation/deletion"
   ]
  },
  {
   "cell_type": "code",
   "execution_count": 31,
   "id": "0ceaf363-f026-43cc-8bab-e58da221d544",
   "metadata": {},
   "outputs": [],
   "source": [
    "# Data Type Conversion\n",
    "# Converting 'Stay_In_Current_City_Years' to numeric\n",
    "df['Stay_In_Current_City_Years'] = df['Stay_In_Current_City_Years'].replace({'4+': '4'}).astype(int)"
   ]
  },
  {
   "cell_type": "code",
   "execution_count": 33,
   "id": "9b3d2d7b-5d1c-431a-825e-d32b74da9933",
   "metadata": {},
   "outputs": [
    {
     "name": "stdout",
     "output_type": "stream",
     "text": [
      "\n",
      "Number of duplicate rows removed: 0\n"
     ]
    }
   ],
   "source": [
    "# Handling Duplicates\n",
    "num_duplicates = df.duplicated().sum()\n",
    "df = df.drop_duplicates()\n",
    "print(f\"\\nNumber of duplicate rows removed: {num_duplicates}\")"
   ]
  },
  {
   "cell_type": "code",
   "execution_count": 35,
   "id": "6419f120-d918-41b4-abe5-b4f0a1241c86",
   "metadata": {},
   "outputs": [],
   "source": [
    "# Addressing Inconsistencies\n",
    "# Standardizing text case for categorical columns\n",
    "categorical_cols = ['Gender', 'Age', 'City_Category']\n",
    "df[categorical_cols] = df[categorical_cols].apply(lambda x: x.str.lower())"
   ]
  },
  {
   "cell_type": "code",
   "execution_count": 45,
   "id": "a617c15e-2ac1-4725-ab77-9194290d82b5",
   "metadata": {},
   "outputs": [
    {
     "name": "stdout",
     "output_type": "stream",
     "text": [
      "\n",
      "Capped extreme values in 'Purchase':\n",
      "count    550068.000000\n",
      "mean       9256.710489\n",
      "std        4855.947166\n",
      "min        1984.000000\n",
      "25%        5823.000000\n",
      "50%        8047.000000\n",
      "75%       12054.000000\n",
      "max       19336.000000\n",
      "Name: Purchase, dtype: float64\n"
     ]
    }
   ],
   "source": [
    "# Outlier Handling (Capping extreme values in 'Purchase')\n",
    "purchase_Q1 = df['Purchase'].quantile(0.05)\n",
    "purchase_Q3 = df['Purchase'].quantile(0.95)\n",
    "df['Purchase'] = np.clip(df['Purchase'], purchase_Q1, purchase_Q3)\n",
    "\n",
    "print(\"\\nCapped extreme values in 'Purchase':\")\n",
    "print(df['Purchase'].describe())"
   ]
  },
  {
   "cell_type": "code",
   "execution_count": 47,
   "id": "5003131b-ed96-4427-85d3-620293b19a01",
   "metadata": {},
   "outputs": [
    {
     "name": "stdout",
     "output_type": "stream",
     "text": [
      "\n",
      "Created 'Age_Group' column:\n",
      "    Age Age_Group\n",
      "0  0-17      Teen\n",
      "1  0-17      Teen\n",
      "2  0-17      Teen\n",
      "3  0-17      Teen\n",
      "4   55+   Elderly\n"
     ]
    }
   ],
   "source": [
    "def categorize_age(age):\n",
    "    if age in ['0-17']: return 'Teen'\n",
    "    elif age in ['18-25']: return 'Young Adult'\n",
    "    elif age in ['26-35']: return 'Adult'\n",
    "    elif age in ['36-45']: return 'Middle Aged'\n",
    "    elif age in ['46-50', '51-55']: return 'Senior'\n",
    "    else: return 'Elderly'\n",
    "\n",
    "df['Age_Group'] = df['Age'].apply(categorize_age)\n",
    "print(\"\\nCreated 'Age_Group' column:\")\n",
    "print(df[['Age', 'Age_Group']].head())"
   ]
  },
  {
   "cell_type": "code",
   "execution_count": 49,
   "id": "207a8ae4-2cb0-4fb4-a23e-50ddc33072e8",
   "metadata": {},
   "outputs": [
    {
     "name": "stdout",
     "output_type": "stream",
     "text": [
      "\n",
      "Average Purchase Amount per Age Group:\n",
      "     Age_Group     Purchase\n",
      "0        Adult  9243.780119\n",
      "1      Elderly  9327.796549\n",
      "2  Middle Aged  9322.921909\n",
      "3       Senior  9346.255659\n",
      "4         Teen  8940.649053\n",
      "5  Young Adult  9169.010977\n"
     ]
    }
   ],
   "source": [
    "# Data Aggregation: Average Purchase by Age Group\n",
    "age_group_summary = df.groupby('Age_Group')['Purchase'].mean().reset_index()\n",
    "print(\"\\nAverage Purchase Amount per Age Group:\")\n",
    "print(age_group_summary)"
   ]
  },
  {
   "cell_type": "code",
   "execution_count": 51,
   "id": "e6559451-1a46-40bb-9971-d5edcf0af13d",
   "metadata": {},
   "outputs": [
    {
     "name": "stdout",
     "output_type": "stream",
     "text": [
      "\n",
      "Normalized 'Purchase' column:\n",
      "   Purchase  Purchase_Normalized\n",
      "0      8370             0.368027\n",
      "1     15200             0.761641\n",
      "2      1984             0.000000\n",
      "3      1984             0.000000\n",
      "4      7969             0.344917\n"
     ]
    }
   ],
   "source": [
    "# Data Normalization (Min-Max Scaling for Purchase column)\n",
    "df['Purchase_Normalized'] = (df['Purchase'] - df['Purchase'].min()) / (df['Purchase'].max() - df['Purchase'].min())\n",
    "print(\"\\nNormalized 'Purchase' column:\")\n",
    "print(df[['Purchase', 'Purchase_Normalized']].head())"
   ]
  },
  {
   "cell_type": "code",
   "execution_count": 53,
   "id": "47fb2bc5-c3cd-4293-818a-f114f1e04e34",
   "metadata": {},
   "outputs": [
    {
     "name": "stdout",
     "output_type": "stream",
     "text": [
      "\n",
      "Created 'Purchase_Category' column:\n",
      "   Purchase Purchase_Category\n",
      "0      8370              High\n",
      "1     15200         Very High\n",
      "2      1984               Low\n",
      "3      1984               Low\n",
      "4      7969            Medium\n"
     ]
    }
   ],
   "source": [
    "# Data Binning: Categorizing Purchase Amounts\n",
    "df['Purchase_Category'] = pd.qcut(df['Purchase'], q=4, labels=['Low', 'Medium', 'High', 'Very High'])\n",
    "print(\"\\nCreated 'Purchase_Category' column:\")\n",
    "print(df[['Purchase', 'Purchase_Category']].head())\n"
   ]
  },
  {
   "cell_type": "code",
   "execution_count": 55,
   "id": "e845bf17-bf03-4640-8a24-1deba7028173",
   "metadata": {},
   "outputs": [
    {
     "name": "stdout",
     "output_type": "stream",
     "text": [
      "\n",
      "Cleaned dataset saved as 'cleaned_walmart_data.csv'.\n",
      "\n",
      "Data Wrangling Summary:\n",
      "\n",
      "1. Data Cleaning:\n",
      "- Removed 0 duplicate rows.\n",
      "- Standardized categorical text data.\n",
      "- Handled outliers by capping extreme purchase values.\n",
      "- Converted 'Stay_In_Current_City_Years' to numeric.\n",
      "\n",
      "2. Data Transformation:\n",
      "- Created 'Age_Group' column.\n",
      "- Computed average purchase amount per age group:\n",
      "     Age_Group     Purchase\n",
      "0        Adult  9243.780119\n",
      "1      Elderly  9327.796549\n",
      "2  Middle Aged  9322.921909\n",
      "3       Senior  9346.255659\n",
      "4         Teen  8940.649053\n",
      "5  Young Adult  9169.010977\n",
      "- Normalized 'Purchase' column using Min-Max Scaling.\n",
      "- Categorized 'Purchase' into 'Low', 'Medium', 'High', and 'Very High'.\n",
      "\n",
      "Final Dataset Preview:\n"
     ]
    },
    {
     "data": {
      "text/html": [
       "<div>\n",
       "<style scoped>\n",
       "    .dataframe tbody tr th:only-of-type {\n",
       "        vertical-align: middle;\n",
       "    }\n",
       "\n",
       "    .dataframe tbody tr th {\n",
       "        vertical-align: top;\n",
       "    }\n",
       "\n",
       "    .dataframe thead th {\n",
       "        text-align: right;\n",
       "    }\n",
       "</style>\n",
       "<table border=\"1\" class=\"dataframe\">\n",
       "  <thead>\n",
       "    <tr style=\"text-align: right;\">\n",
       "      <th></th>\n",
       "      <th>User_ID</th>\n",
       "      <th>Product_ID</th>\n",
       "      <th>Gender</th>\n",
       "      <th>Age</th>\n",
       "      <th>Occupation</th>\n",
       "      <th>City_Category</th>\n",
       "      <th>Stay_In_Current_City_Years</th>\n",
       "      <th>Marital_Status</th>\n",
       "      <th>Product_Category</th>\n",
       "      <th>Purchase</th>\n",
       "      <th>Age_Group</th>\n",
       "      <th>Purchase_Normalized</th>\n",
       "      <th>Purchase_Category</th>\n",
       "    </tr>\n",
       "  </thead>\n",
       "  <tbody>\n",
       "    <tr>\n",
       "      <th>0</th>\n",
       "      <td>1000001</td>\n",
       "      <td>P00069042</td>\n",
       "      <td>f</td>\n",
       "      <td>0-17</td>\n",
       "      <td>10</td>\n",
       "      <td>a</td>\n",
       "      <td>2</td>\n",
       "      <td>0</td>\n",
       "      <td>3</td>\n",
       "      <td>8370</td>\n",
       "      <td>Teen</td>\n",
       "      <td>0.368027</td>\n",
       "      <td>High</td>\n",
       "    </tr>\n",
       "    <tr>\n",
       "      <th>1</th>\n",
       "      <td>1000001</td>\n",
       "      <td>P00248942</td>\n",
       "      <td>f</td>\n",
       "      <td>0-17</td>\n",
       "      <td>10</td>\n",
       "      <td>a</td>\n",
       "      <td>2</td>\n",
       "      <td>0</td>\n",
       "      <td>1</td>\n",
       "      <td>15200</td>\n",
       "      <td>Teen</td>\n",
       "      <td>0.761641</td>\n",
       "      <td>Very High</td>\n",
       "    </tr>\n",
       "    <tr>\n",
       "      <th>2</th>\n",
       "      <td>1000001</td>\n",
       "      <td>P00087842</td>\n",
       "      <td>f</td>\n",
       "      <td>0-17</td>\n",
       "      <td>10</td>\n",
       "      <td>a</td>\n",
       "      <td>2</td>\n",
       "      <td>0</td>\n",
       "      <td>12</td>\n",
       "      <td>1984</td>\n",
       "      <td>Teen</td>\n",
       "      <td>0.000000</td>\n",
       "      <td>Low</td>\n",
       "    </tr>\n",
       "    <tr>\n",
       "      <th>3</th>\n",
       "      <td>1000001</td>\n",
       "      <td>P00085442</td>\n",
       "      <td>f</td>\n",
       "      <td>0-17</td>\n",
       "      <td>10</td>\n",
       "      <td>a</td>\n",
       "      <td>2</td>\n",
       "      <td>0</td>\n",
       "      <td>12</td>\n",
       "      <td>1984</td>\n",
       "      <td>Teen</td>\n",
       "      <td>0.000000</td>\n",
       "      <td>Low</td>\n",
       "    </tr>\n",
       "    <tr>\n",
       "      <th>4</th>\n",
       "      <td>1000002</td>\n",
       "      <td>P00285442</td>\n",
       "      <td>m</td>\n",
       "      <td>55+</td>\n",
       "      <td>16</td>\n",
       "      <td>c</td>\n",
       "      <td>4</td>\n",
       "      <td>0</td>\n",
       "      <td>8</td>\n",
       "      <td>7969</td>\n",
       "      <td>Elderly</td>\n",
       "      <td>0.344917</td>\n",
       "      <td>Medium</td>\n",
       "    </tr>\n",
       "  </tbody>\n",
       "</table>\n",
       "</div>"
      ],
      "text/plain": [
       "   User_ID Product_ID Gender   Age  Occupation City_Category  \\\n",
       "0  1000001  P00069042      f  0-17          10             a   \n",
       "1  1000001  P00248942      f  0-17          10             a   \n",
       "2  1000001  P00087842      f  0-17          10             a   \n",
       "3  1000001  P00085442      f  0-17          10             a   \n",
       "4  1000002  P00285442      m   55+          16             c   \n",
       "\n",
       "   Stay_In_Current_City_Years  Marital_Status  Product_Category  Purchase  \\\n",
       "0                           2               0                 3      8370   \n",
       "1                           2               0                 1     15200   \n",
       "2                           2               0                12      1984   \n",
       "3                           2               0                12      1984   \n",
       "4                           4               0                 8      7969   \n",
       "\n",
       "  Age_Group  Purchase_Normalized Purchase_Category  \n",
       "0      Teen             0.368027              High  \n",
       "1      Teen             0.761641         Very High  \n",
       "2      Teen             0.000000               Low  \n",
       "3      Teen             0.000000               Low  \n",
       "4   Elderly             0.344917            Medium  "
      ]
     },
     "metadata": {},
     "output_type": "display_data"
    },
    {
     "name": "stdout",
     "output_type": "stream",
     "text": [
      "\n",
      " Data is cleaned, transformed, and saved successfully.\n"
     ]
    }
   ],
   "source": [
    "# Save the cleaned and transformed dataset\n",
    "df.to_csv(\"cleaned_walmart_data.csv\", index=False)\n",
    "print(\"\\nCleaned dataset saved as 'cleaned_walmart_data.csv'.\")\n",
    "\n",
    "# Summary of Data Wrangling Process\n",
    "print(\"\\nData Wrangling Summary:\")\n",
    "\n",
    "print(\"\\n1. Data Cleaning:\")\n",
    "print(f\"- Removed {num_duplicates} duplicate rows.\")\n",
    "print(\"- Standardized categorical text data.\")\n",
    "print(\"- Handled outliers by capping extreme purchase values.\")\n",
    "print(\"- Converted 'Stay_In_Current_City_Years' to numeric.\")\n",
    "\n",
    "print(\"\\n2. Data Transformation:\")\n",
    "print(\"- Created 'Age_Group' column.\")\n",
    "print(\"- Computed average purchase amount per age group:\")\n",
    "print(age_group_summary)\n",
    "print(\"- Normalized 'Purchase' column using Min-Max Scaling.\")\n",
    "print(\"- Categorized 'Purchase' into 'Low', 'Medium', 'High', and 'Very High'.\")\n",
    "\n",
    "# Display final dataset overview\n",
    "print(\"\\nFinal Dataset Preview:\")\n",
    "display(df.head())\n",
    "\n",
    "print(\"\\n Data is cleaned, transformed, and saved successfully.\")"
   ]
  },
  {
   "cell_type": "code",
   "execution_count": null,
   "id": "4503698e-f536-44d9-99bb-574c7c9a33b2",
   "metadata": {},
   "outputs": [],
   "source": []
  }
 ],
 "metadata": {
  "kernelspec": {
   "display_name": "Python [conda env:base] *",
   "language": "python",
   "name": "conda-base-py"
  },
  "language_info": {
   "codemirror_mode": {
    "name": "ipython",
    "version": 3
   },
   "file_extension": ".py",
   "mimetype": "text/x-python",
   "name": "python",
   "nbconvert_exporter": "python",
   "pygments_lexer": "ipython3",
   "version": "3.12.7"
  }
 },
 "nbformat": 4,
 "nbformat_minor": 5
}
